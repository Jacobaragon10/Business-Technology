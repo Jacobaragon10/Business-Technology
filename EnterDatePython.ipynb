{
  "nbformat": 4,
  "nbformat_minor": 0,
  "metadata": {
    "colab": {
      "provenance": [],
      "authorship_tag": "ABX9TyPzTncxefAb+PLpHfYmpEIj",
      "include_colab_link": true
    },
    "kernelspec": {
      "name": "python3",
      "display_name": "Python 3"
    },
    "language_info": {
      "name": "python"
    }
  },
  "cells": [
    {
      "cell_type": "markdown",
      "metadata": {
        "id": "view-in-github",
        "colab_type": "text"
      },
      "source": [
        "<a href=\"https://colab.research.google.com/github/Jacobaragon10/Business-Technology/blob/main/EnterDatePython.ipynb\" target=\"_parent\"><img src=\"https://colab.research.google.com/assets/colab-badge.svg\" alt=\"Open In Colab\"/></a>"
      ]
    },
    {
      "cell_type": "code",
      "execution_count": 1,
      "metadata": {
        "colab": {
          "base_uri": "https://localhost:8080/"
        },
        "id": "W2me6bDmQ7cS",
        "outputId": "0ed49f8a-6b25-4d78-e5fc-d645f61b1575"
      },
      "outputs": [
        {
          "output_type": "stream",
          "name": "stdout",
          "text": [
            "Enter date: 09/11/2003\n",
            "Month:  09\n",
            "Day:  11\n",
            "Year:  2003\n"
          ]
        }
      ],
      "source": [
        "date = str(input('Enter date: '))\n",
        "\n",
        "month = date[0:2]\n",
        "day = date[3:5]\n",
        "year = date[6:10]\n",
        "\n",
        "print('Month: ',month)\n",
        "print('Day: ',day)\n",
        "print('Year: ',year)\n",
        "\n",
        "\n",
        "\n"
      ]
    }
  ]
}