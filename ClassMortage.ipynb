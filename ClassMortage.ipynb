{
  "nbformat": 4,
  "nbformat_minor": 0,
  "metadata": {
    "colab": {
      "provenance": [],
      "authorship_tag": "ABX9TyPogE7ONDuwM4K+Yvn5yPUA",
      "include_colab_link": true
    },
    "kernelspec": {
      "name": "python3",
      "display_name": "Python 3"
    },
    "language_info": {
      "name": "python"
    }
  },
  "cells": [
    {
      "cell_type": "markdown",
      "metadata": {
        "id": "view-in-github",
        "colab_type": "text"
      },
      "source": [
        "<a href=\"https://colab.research.google.com/github/Jacobaragon10/Business-Technology/blob/main/ClassMortage.ipynb\" target=\"_parent\"><img src=\"https://colab.research.google.com/assets/colab-badge.svg\" alt=\"Open In Colab\"/></a>"
      ]
    },
    {
      "cell_type": "code",
      "execution_count": 4,
      "metadata": {
        "colab": {
          "base_uri": "https://localhost:8080/"
        },
        "id": "8UYBkTG3n0cl",
        "outputId": "e576a3ab-9063-408b-b7ac-e7a213931cc4"
      },
      "outputs": [
        {
          "output_type": "stream",
          "name": "stdout",
          "text": [
            "Monthly payment: 898.09 $\n"
          ]
        }
      ],
      "source": [
        "class Mortgage:\n",
        "    def __init__(self, amount, maturity, interest):\n",
        "        self.amount = amount\n",
        "        self.maturity = maturity\n",
        "        self.interest = interest\n",
        "\n",
        "    def set_interest(self, new_interest):\n",
        "        if new_interest >= 0:\n",
        "            self.interest = new_interest\n",
        "        else:\n",
        "            print('Interest must be non-negative!')\n",
        "\n",
        "    def calculate_monthly_payment(self):\n",
        "        B = self.amount\n",
        "        n = self.maturity * 12\n",
        "        r = self.interest / 100 / 12\n",
        "\n",
        "        if r != 0:\n",
        "            monthly_payment = B * (r * (1 + r) ** n) / ((1 + r) ** n - 1)\n",
        "        else:\n",
        "            monthly_payment = B / n\n",
        "        return monthly_payment\n",
        "\n",
        "\n",
        "mortgage = Mortgage(200000, 30, 3.5)\n",
        "print('Monthly payment: {:.2f} $'.format(mortgage.calculate_monthly_payment()))\n"
      ]
    }
  ]
}