{
  "nbformat": 4,
  "nbformat_minor": 0,
  "metadata": {
    "colab": {
      "provenance": [],
      "authorship_tag": "ABX9TyPb/5IYiFaeIf1sJpfMvjl8",
      "include_colab_link": true
    },
    "kernelspec": {
      "name": "python3",
      "display_name": "Python 3"
    },
    "language_info": {
      "name": "python"
    }
  },
  "cells": [
    {
      "cell_type": "markdown",
      "metadata": {
        "id": "view-in-github",
        "colab_type": "text"
      },
      "source": [
        "<a href=\"https://colab.research.google.com/github/Jacobaragon10/Business-Technology/blob/main/PopulatingDictionaryWithTwoVariables.ipynb\" target=\"_parent\"><img src=\"https://colab.research.google.com/assets/colab-badge.svg\" alt=\"Open In Colab\"/></a>"
      ]
    },
    {
      "cell_type": "code",
      "execution_count": 1,
      "metadata": {
        "colab": {
          "base_uri": "https://localhost:8080/"
        },
        "id": "YyPeOe4upvqV",
        "outputId": "394e7b6f-9c2d-4386-8dd1-caf834409580"
      },
      "outputs": [
        {
          "output_type": "stream",
          "name": "stdout",
          "text": [
            "{1: 'Jan',\n",
            " 2: 'Feb',\n",
            " 3: 'Mar',\n",
            " 4: 'Apr',\n",
            " 5: 'May',\n",
            " 6: 'Jun',\n",
            " 7: 'Jul',\n",
            " 8: 'Aug',\n",
            " 9: 'Sep',\n",
            " 10: 'Oct',\n",
            " 11: 'Nov',\n",
            " 12: 'Dec'}\n"
          ]
        }
      ],
      "source": [
        "import pprint\n",
        "months = {}\n",
        "\n",
        "numbers = [1,2,3,4,5,6,7,8,9,10,11,12]\n",
        "names = [\"Jan\",\"Feb\",\"Mar\",\"Apr\",\"May\",\"Jun\",\"Jul\",\"Aug\",\"Sep\",\"Oct\",\"Nov\",\"Dec\"]\n",
        "\n",
        "for key in range(len(numbers)):\n",
        "  months[numbers[key]]=names[key]\n",
        "\n",
        "pprint.pprint(months)"
      ]
    }
  ]
}