{
  "nbformat": 4,
  "nbformat_minor": 0,
  "metadata": {
    "colab": {
      "provenance": [],
      "authorship_tag": "ABX9TyMVm+H61yzZVQwD8JyUQhrE",
      "include_colab_link": true
    },
    "kernelspec": {
      "name": "python3",
      "display_name": "Python 3"
    },
    "language_info": {
      "name": "python"
    }
  },
  "cells": [
    {
      "cell_type": "markdown",
      "metadata": {
        "id": "view-in-github",
        "colab_type": "text"
      },
      "source": [
        "<a href=\"https://colab.research.google.com/github/Jacobaragon10/Business-Technology/blob/main/ClassPoint_Point3D.ipynb\" target=\"_parent\"><img src=\"https://colab.research.google.com/assets/colab-badge.svg\" alt=\"Open In Colab\"/></a>"
      ]
    },
    {
      "cell_type": "code",
      "execution_count": 3,
      "metadata": {
        "colab": {
          "base_uri": "https://localhost:8080/"
        },
        "id": "IKxV-27roz6I",
        "outputId": "743783bb-9845-4aac-bb0e-afca2d93e924"
      },
      "outputs": [
        {
          "output_type": "stream",
          "name": "stdout",
          "text": [
            "Distance between p1 and p2: 5.0\n",
            "Distance between p3 and p4: 7.0710678118654755\n"
          ]
        }
      ],
      "source": [
        "class Point:\n",
        "    def __init__(self, x, y):\n",
        "        self.x = x\n",
        "        self.y = y\n",
        "\n",
        "    def distance(self, other):\n",
        "        x_diff = (self.x - other.x) ** 2\n",
        "        y_diff = (self.y - other.y) ** 2\n",
        "        return (x_diff + y_diff) ** 0.5\n",
        "\n",
        "class Point3D(Point):\n",
        "    def __init__(self, x, y, z):\n",
        "        super().__init__(x, y)\n",
        "        self.z = z\n",
        "\n",
        "    def distance(self, other):\n",
        "        x_diff = (self.x - other.x) ** 2\n",
        "        y_diff = (self.y - other.y) ** 2\n",
        "        z_diff = (self.z - other.z) ** 2\n",
        "        return (x_diff + y_diff + z_diff) ** 0.5\n",
        "\n",
        "p1 = Point(3, 4)\n",
        "p2 = Point(0, 0)\n",
        "print(\"Distance between p1 and p2:\", p1.distance(p2))\n",
        "\n",
        "p3 = Point3D(3, 4, 5)\n",
        "p4 = Point3D(0, 0, 0)\n",
        "print(\"Distance between p3 and p4:\", p3.distance(p4))\n"
      ]
    }
  ]
}