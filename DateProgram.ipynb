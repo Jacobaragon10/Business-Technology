{
  "nbformat": 4,
  "nbformat_minor": 0,
  "metadata": {
    "colab": {
      "provenance": [],
      "authorship_tag": "ABX9TyMCa5eblm0twdPpngHmaMNd",
      "include_colab_link": true
    },
    "kernelspec": {
      "name": "python3",
      "display_name": "Python 3"
    },
    "language_info": {
      "name": "python"
    }
  },
  "cells": [
    {
      "cell_type": "markdown",
      "metadata": {
        "id": "view-in-github",
        "colab_type": "text"
      },
      "source": [
        "<a href=\"https://colab.research.google.com/github/Jacobaragon10/Business-Technology/blob/main/DateProgram.ipynb\" target=\"_parent\"><img src=\"https://colab.research.google.com/assets/colab-badge.svg\" alt=\"Open In Colab\"/></a>"
      ]
    },
    {
      "cell_type": "code",
      "execution_count": 1,
      "metadata": {
        "colab": {
          "base_uri": "https://localhost:8080/"
        },
        "id": "n63XpsvRBH62",
        "outputId": "4332d4ec-a12f-4d4e-fb84-92cb4763cb81"
      },
      "outputs": [
        {
          "output_type": "stream",
          "name": "stdout",
          "text": [
            "Enter a Date: mm/dd/yyyy09/11/2003\n",
            "Month: 09\n",
            "Day: 11\n",
            "Year: 2003\n"
          ]
        }
      ],
      "source": [
        "date = input('Enter a Date: mm/dd/yyyy')\n",
        "\n",
        "month_date = date[0:2]\n",
        "day_date = date[3:5]\n",
        "year_date = date[6:10]\n",
        "\n",
        "print('Month:',month_date)\n",
        "print('Day:',day_date)\n",
        "print('Year:',year_date)"
      ]
    }
  ]
}