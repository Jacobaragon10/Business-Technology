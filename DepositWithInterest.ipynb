{
  "nbformat": 4,
  "nbformat_minor": 0,
  "metadata": {
    "colab": {
      "provenance": [],
      "authorship_tag": "ABX9TyNzpWE/S+8noD0oWKzLGw64",
      "include_colab_link": true
    },
    "kernelspec": {
      "name": "python3",
      "display_name": "Python 3"
    },
    "language_info": {
      "name": "python"
    }
  },
  "cells": [
    {
      "cell_type": "markdown",
      "metadata": {
        "id": "view-in-github",
        "colab_type": "text"
      },
      "source": [
        "<a href=\"https://colab.research.google.com/github/Jacobaragon10/Business-Technology/blob/main/DepositWithInterest.ipynb\" target=\"_parent\"><img src=\"https://colab.research.google.com/assets/colab-badge.svg\" alt=\"Open In Colab\"/></a>"
      ]
    },
    {
      "cell_type": "code",
      "execution_count": 1,
      "metadata": {
        "colab": {
          "base_uri": "https://localhost:8080/"
        },
        "id": "3jccjwt--vQi",
        "outputId": "d7de2c73-8b14-4d4d-85fe-752aba80ec85"
      },
      "outputs": [
        {
          "output_type": "stream",
          "name": "stdout",
          "text": [
            "Enter your name: Jacob\n",
            "Enter customer type (n: new, e:existing): new\n",
            "Enter deposit amount (in $): 12000\n",
            "12419.999999999998\n"
          ]
        }
      ],
      "source": [
        "name = input('Enter your name: ')\n",
        "customertype = input('Enter customer type (n: new, e:existing): ')\n",
        "deposit = float(input(\"Enter deposit amount (in $): \"))\n",
        "\n",
        "if customertype == 'n':\n",
        "  interest = .03\n",
        "\n",
        "else:\n",
        "  if deposit <= 1000:\n",
        "    interest = .03\n",
        "  elif deposit <=10000:\n",
        "    interest = .0325\n",
        "  elif deposit >10000:\n",
        "    interest = .035\n",
        "\n",
        "  total = (1+interest) * deposit\n",
        "  print(total)"
      ]
    }
  ]
}