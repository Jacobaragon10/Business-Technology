{
  "nbformat": 4,
  "nbformat_minor": 0,
  "metadata": {
    "colab": {
      "provenance": [],
      "authorship_tag": "ABX9TyOI5H0nqByrlAge/aZgIc8L",
      "include_colab_link": true
    },
    "kernelspec": {
      "name": "python3",
      "display_name": "Python 3"
    },
    "language_info": {
      "name": "python"
    }
  },
  "cells": [
    {
      "cell_type": "markdown",
      "metadata": {
        "id": "view-in-github",
        "colab_type": "text"
      },
      "source": [
        "<a href=\"https://colab.research.google.com/github/Jacobaragon10/Business-Technology/blob/main/Calculatoripynb.ipynb\" target=\"_parent\"><img src=\"https://colab.research.google.com/assets/colab-badge.svg\" alt=\"Open In Colab\"/></a>"
      ]
    },
    {
      "cell_type": "code",
      "execution_count": null,
      "metadata": {
        "id": "mrwR2ArrEADT"
      },
      "outputs": [],
      "source": [
        "while True:\n",
        "    # Getting input from the user\n",
        "    x = float(input('Enter a number: '))\n",
        "    y = float(input('Enter another number: '))\n",
        "    operator = input('Enter an operator or \"break\" to exit: ')\n",
        "\n",
        "    # Check if user wants to break the loop\n",
        "    if operator == 'break':\n",
        "        print(\"Exiting calculator.\")\n",
        "        break\n",
        "\n",
        "    # Perform calculation based on the operator\n",
        "    if operator == '+':\n",
        "        result = x + y\n",
        "    elif operator == '-':\n",
        "        result = x - y\n",
        "    elif operator == '*':\n",
        "        result = x * y\n",
        "    elif operator == '**':\n",
        "        result = x ** y\n",
        "    elif operator == '/':\n",
        "        if y == 0:\n",
        "            print(\"Cannot divide by zero.\")\n",
        "            continue\n",
        "        else:\n",
        "            result = x / y\n",
        "    elif operator == '//':\n",
        "        if y == 0:\n",
        "            print(\"Cannot divide by zero.\")\n",
        "            continue\n",
        "        else:\n",
        "            result = x // y\n",
        "    elif operator == '%':\n",
        "        if y == 0:\n",
        "            print(\"Cannot divide by zero.\")\n",
        "            continue\n",
        "        else:\n",
        "            result = x % y\n",
        "    else:\n",
        "        print(\"Unsupported operator. Skipping this calculation.\")\n",
        "        continue\n",
        "\n",
        "    print(f\"The result of {x} {operator} {y} is {result}\")\n"
      ]
    }
  ]
}